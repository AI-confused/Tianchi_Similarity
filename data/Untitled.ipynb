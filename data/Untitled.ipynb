{
 "cells": [
  {
   "cell_type": "code",
   "execution_count": 32,
   "metadata": {},
   "outputs": [
    {
     "name": "stdout",
     "output_type": "stream",
     "text": [
      "10749\n",
      "          0   1               2                3  4\n",
      "0         0  咳血   剧烈运动后咯血,是怎么了?    剧烈运动后咯血是什么原因？  1\n",
      "1         1  咳血   剧烈运动后咯血,是怎么了?     剧烈运动后为什么会咯血？  1\n",
      "2         2  咳血   剧烈运动后咯血,是怎么了?  剧烈运动后咯血，应该怎么处理？  0\n",
      "3         3  咳血   剧烈运动后咯血,是怎么了?   剧烈运动后咯血，需要就医吗？  0\n",
      "4         4  咳血   剧烈运动后咯血,是怎么了?   剧烈运动后咯血，是否很严重？  0\n",
      "...     ...  ..             ...              ... ..\n",
      "10744  1997  哮喘  变应性哮喘就是过敏性哮喘吗？  变应性哮喘与过敏性哮喘一样吗？  1\n",
      "10745  1998  哮喘  变应性哮喘就是过敏性哮喘吗？  变应性哮喘是否就是过敏性哮喘？  1\n",
      "10746  1999  哮喘  变应性哮喘就是过敏性哮喘吗？   变应性哮喘的饮食禁忌有哪些？  0\n",
      "10747  2000  哮喘  变应性哮喘就是过敏性哮喘吗？       变应性哮喘怎么治疗？  0\n",
      "10748  2001  哮喘  变应性哮喘就是过敏性哮喘吗？       变应性哮喘能跑步吗？  0\n",
      "\n",
      "[10749 rows x 5 columns]\n"
     ]
    }
   ],
   "source": [
    "import pandas as pd\n",
    "import numpy as np\n",
    "train = pd.read_csv('train.csv')\n",
    "dev = pd.read_csv('dev.csv')\n",
    "# print(train+dev)\n",
    "train = train.iloc[:,:].values\n",
    "dev = dev.iloc[:,:].values\n",
    "# print(train)\n",
    "# print(dev)\n",
    "train = np.concatenate((train, dev),axis=0)\n",
    "print(len(train))\n",
    "train = pd.DataFrame(train)\n",
    "print(train)\n",
    "train.to_csv('totol_data.csv', index=False,header=True)"
   ]
  },
  {
   "cell_type": "code",
   "execution_count": 45,
   "metadata": {},
   "outputs": [
    {
     "name": "stdout",
     "output_type": "stream",
     "text": [
      "0.6670285359801489\n"
     ]
    }
   ],
   "source": [
    "data = pd.read_csv('totol_data.csv')\n",
    "m,n=0,0\n",
    "for i in data.index:\n",
    "    if data.iloc[i,-1]==1:\n",
    "        m+=1\n",
    "    else:\n",
    "        n+=1\n",
    "print(m/n)"
   ]
  },
  {
   "cell_type": "code",
   "execution_count": 40,
   "metadata": {},
   "outputs": [
    {
     "name": "stdout",
     "output_type": "stream",
     "text": [
      "         id category          query1           query2  label\n",
      "0         0       咳血   剧烈运动后咯血,是怎么了?    剧烈运动后咯血是什么原因？      1\n",
      "1         1       咳血   剧烈运动后咯血,是怎么了?     剧烈运动后为什么会咯血？      1\n",
      "2         2       咳血   剧烈运动后咯血,是怎么了?  剧烈运动后咯血，应该怎么处理？      0\n",
      "3         3       咳血   剧烈运动后咯血,是怎么了?   剧烈运动后咯血，需要就医吗？      0\n",
      "4         4       咳血   剧烈运动后咯血,是怎么了?   剧烈运动后咯血，是否很严重？      0\n",
      "...     ...      ...             ...              ...    ...\n",
      "10744  1997       哮喘  变应性哮喘就是过敏性哮喘吗？  变应性哮喘与过敏性哮喘一样吗？      1\n",
      "10745  1998       哮喘  变应性哮喘就是过敏性哮喘吗？  变应性哮喘是否就是过敏性哮喘？      1\n",
      "10746  1999       哮喘  变应性哮喘就是过敏性哮喘吗？   变应性哮喘的饮食禁忌有哪些？      0\n",
      "10747  2000       哮喘  变应性哮喘就是过敏性哮喘吗？       变应性哮喘怎么治疗？      0\n",
      "10748  2001       哮喘  变应性哮喘就是过敏性哮喘吗？       变应性哮喘能跑步吗？      0\n",
      "\n",
      "[10749 rows x 5 columns]\n",
      "[    0     2     3 ... 10746 10747 10748] [    1     6     8 ... 10727 10728 10743]\n",
      "8599 2150\n",
      "[    0     1     2 ... 10746 10747 10748] [    7    11    19 ... 10741 10742 10744]\n",
      "8599 2150\n",
      "[    0     1     3 ... 10745 10746 10747] [    2     4     5 ... 10739 10740 10748]\n",
      "8599 2150\n",
      "[    0     1     2 ... 10744 10747 10748] [    3    10    14 ... 10737 10745 10746]\n",
      "8599 2150\n",
      "[    1     2     3 ... 10745 10746 10748] [    0     9    13 ... 10736 10738 10747]\n",
      "8600 2149\n"
     ]
    }
   ],
   "source": [
    "data = pd.read_csv('totol_data.csv')\n",
    "import os\n",
    "print(data)\n",
    "from sklearn.model_selection import KFold\n",
    "kfold = KFold(n_splits=5, shuffle=True)\n",
    "i = 0\n",
    "os.system('cd fold5')\n",
    "for train, test in kfold.split(data):\n",
    "    print(\"%s %s\" % (train, test))\n",
    "    print(len(train),len(test))\n",
    "    train_data = data.loc[train]\n",
    "    dev_data = data.loc[test]\n",
    "#     print(train_data)\n",
    "    try:\n",
    "        os.system('mkdir data_%d'%i)\n",
    "    except:\n",
    "        pass\n",
    "    train_data.to_csv('data_%d/train.csv'%i, index=False, header=True)\n",
    "    dev_data.to_csv('data_%d/dev.csv'%i, index=False, header=True)\n",
    "    i += 1"
   ]
  }
 ],
 "metadata": {
  "kernelspec": {
   "display_name": "pytorch",
   "language": "python",
   "name": "pytorch"
  },
  "language_info": {
   "codemirror_mode": {
    "name": "ipython",
    "version": 3
   },
   "file_extension": ".py",
   "mimetype": "text/x-python",
   "name": "python",
   "nbconvert_exporter": "python",
   "pygments_lexer": "ipython3",
   "version": "3.7.3"
  }
 },
 "nbformat": 4,
 "nbformat_minor": 2
}
