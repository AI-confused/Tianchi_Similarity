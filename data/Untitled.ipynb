{
 "cells": [
  {
   "cell_type": "code",
   "execution_count": 32,
   "metadata": {},
   "outputs": [
    {
     "name": "stdout",
     "output_type": "stream",
     "text": [
      "10749\n",
      "          0   1               2                3  4\n",
      "0         0  咳血   剧烈运动后咯血,是怎么了?    剧烈运动后咯血是什么原因？  1\n",
      "1         1  咳血   剧烈运动后咯血,是怎么了?     剧烈运动后为什么会咯血？  1\n",
      "2         2  咳血   剧烈运动后咯血,是怎么了?  剧烈运动后咯血，应该怎么处理？  0\n",
      "3         3  咳血   剧烈运动后咯血,是怎么了?   剧烈运动后咯血，需要就医吗？  0\n",
      "4         4  咳血   剧烈运动后咯血,是怎么了?   剧烈运动后咯血，是否很严重？  0\n",
      "...     ...  ..             ...              ... ..\n",
      "10744  1997  哮喘  变应性哮喘就是过敏性哮喘吗？  变应性哮喘与过敏性哮喘一样吗？  1\n",
      "10745  1998  哮喘  变应性哮喘就是过敏性哮喘吗？  变应性哮喘是否就是过敏性哮喘？  1\n",
      "10746  1999  哮喘  变应性哮喘就是过敏性哮喘吗？   变应性哮喘的饮食禁忌有哪些？  0\n",
      "10747  2000  哮喘  变应性哮喘就是过敏性哮喘吗？       变应性哮喘怎么治疗？  0\n",
      "10748  2001  哮喘  变应性哮喘就是过敏性哮喘吗？       变应性哮喘能跑步吗？  0\n",
      "\n",
      "[10749 rows x 5 columns]\n"
     ]
    }
   ],
   "source": [
    "import pandas as pd\n",
    "import numpy as np\n",
    "train = pd.read_csv('train.csv')\n",
    "dev = pd.read_csv('dev.csv')\n",
    "# print(train+dev)\n",
    "train = train.iloc[:,:].values\n",
    "dev = dev.iloc[:,:].values\n",
    "# print(train)\n",
    "# print(dev)\n",
    "train = np.concatenate((train, dev),axis=0)\n",
    "print(len(train))\n",
    "train = pd.DataFrame(train)\n",
    "print(train)\n",
    "train.to_csv('totol_data.csv', index=False,header=True)"
   ]
  },
  {
   "cell_type": "code",
   "execution_count": 45,
   "metadata": {},
   "outputs": [
    {
     "name": "stdout",
     "output_type": "stream",
     "text": [
      "0.6670285359801489\n"
     ]
    }
   ],
   "source": [
    "data = pd.read_csv('totol_data.csv')\n",
    "m,n=0,0\n",
    "for i in data.index:\n",
    "    if data.iloc[i,-1]==1:\n",
    "        m+=1\n",
    "    else:\n",
    "        n+=1\n",
    "print(m/n)"
   ]
  },
  {
   "cell_type": "code",
   "execution_count": 37,
   "metadata": {},
   "outputs": [
    {
     "name": "stdout",
     "output_type": "stream",
     "text": [
      "         id                query1                     query2  label\n",
      "0      7114         干咳无痰吃什么水果恢复的快             干咳无痰并伴有哮鸣音怎么回事      0\n",
      "1      1375           肺气肿病人怎么治疗的？           肺气肿病人最明显的表现有哪些呢?      0\n",
      "2      1946               肺炎会传染人吗                  大叶性肺炎传染吗？      0\n",
      "3      2012  感冒肺炎，住院三天医生说出院需要注意饮食  感冒肺炎，住院三天医生说出院后不要去人群密集的地方      0\n",
      "4      2211         严重的慢性肺炎传染严重吗？               严重的慢性肺炎传染人吗？      0\n",
      "...     ...                   ...                        ...    ...\n",
      "16134  3005              哮喘能否吃洋参？                 哮喘可不可以吃洋参？      1\n",
      "16135  3006      过敏性哮喘患者的注意事项是什么？            过敏性哮喘患者要注意的是什么？      1\n",
      "16136  3007         过敏性哮喘平时应注意什么？          患了过敏性哮喘平时需要注意哪些事？      1\n",
      "16137  3008            如何治疗过敏性哮喘？                过敏性哮喘要怎么治疗？      1\n",
      "16138  3009       变应性哮喘与过敏性哮喘一样吗？            变应性哮喘是否就是过敏性哮喘？      1\n",
      "\n",
      "[16139 rows x 4 columns]\n",
      "[    2     4     7 ... 16136 16137 16138] [    0     1     3 ... 16127 16129 16130]\n",
      "12911 3228\n",
      "[    0     1     3 ... 16135 16136 16138] [    2     7     8 ... 16122 16126 16137]\n",
      "12911 3228\n",
      "[    0     1     2 ... 16134 16136 16137] [   10    11    20 ... 16123 16135 16138]\n",
      "12911 3228\n",
      "[    0     1     2 ... 16135 16137 16138] [    9    37    55 ... 16120 16124 16136]\n",
      "12911 3228\n",
      "[    0     1     2 ... 16136 16137 16138] [    4    12    17 ... 16132 16133 16134]\n",
      "12912 3227\n"
     ]
    }
   ],
   "source": [
    "data = pd.read_csv('total_data3.csv')\n",
    "import os\n",
    "print(data)\n",
    "from sklearn.model_selection import KFold\n",
    "kfold = KFold(n_splits=5, shuffle=True)\n",
    "i = 0\n",
    "os.system('cd fold5')\n",
    "for train, test in kfold.split(data):\n",
    "    print(\"%s %s\" % (train, test))\n",
    "    print(len(train),len(test))\n",
    "    train_data = data.loc[train]\n",
    "    dev_data = data.loc[test]\n",
    "#     print(train_data)\n",
    "    try:\n",
    "        os.system('mkdir data3_%d'%i)\n",
    "    except:\n",
    "        pass\n",
    "    train_data.to_csv('data3_%d/train.csv'%i, index=False, header=True)\n",
    "    dev_data.to_csv('data3_%d/dev.csv'%i, index=False, header=True)\n",
    "    i += 1"
   ]
  },
  {
   "cell_type": "code",
   "execution_count": 2,
   "metadata": {},
   "outputs": [
    {
     "name": "stdout",
     "output_type": "stream",
     "text": [
      "         id           query1              query2  label\n",
      "0         0    剧烈运动后咯血,是怎么了?       剧烈运动后咯血是什么原因？      1\n",
      "1         1    剧烈运动后咯血,是怎么了?        剧烈运动后为什么会咯血？      1\n",
      "5         5      百令胶囊需要注意什么？        百令胶囊有什么注意事项？      1\n",
      "6         6      百令胶囊需要注意什么？  服用百令胶囊有什么需要特别注意的吗？      1\n",
      "10       10     肝癌兼肺癌晚期能活多久？      肝癌兼肺癌晚期还有多少寿命？      1\n",
      "...     ...              ...                 ...    ...\n",
      "10735  1988  过敏性哮喘平时应注意哪些问题？   患了过敏性哮喘平时需要注意哪些事？      1\n",
      "10739  1992     过敏性哮喘究竟怎样治疗?          如何治疗过敏性哮喘？      1\n",
      "10740  1993     过敏性哮喘究竟怎样治疗?         过敏性哮喘要怎么治疗？      1\n",
      "10744  1997   变应性哮喘就是过敏性哮喘吗？     变应性哮喘与过敏性哮喘一样吗？      1\n",
      "10745  1998   变应性哮喘就是过敏性哮喘吗？     变应性哮喘是否就是过敏性哮喘？      1\n",
      "\n",
      "[4301 rows x 4 columns]\n",
      "         id          query1           query2  label\n",
      "2         2   剧烈运动后咯血,是怎么了?  剧烈运动后咯血，应该怎么处理？      0\n",
      "3         3   剧烈运动后咯血,是怎么了?   剧烈运动后咯血，需要就医吗？      0\n",
      "4         4   剧烈运动后咯血,是怎么了?   剧烈运动后咯血，是否很严重？      0\n",
      "7         7     百令胶囊需要注意什么？        百令胶囊如何服用？      0\n",
      "8         8     百令胶囊需要注意什么？        百令胶囊效果好吗？      0\n",
      "...     ...             ...              ...    ...\n",
      "10742  1995    过敏性哮喘究竟怎样治疗?      过敏性哮喘有哪些症状？      0\n",
      "10743  1996    过敏性哮喘究竟怎样治疗?    过敏性哮喘治好会不会复发？      0\n",
      "10746  1999  变应性哮喘就是过敏性哮喘吗？   变应性哮喘的饮食禁忌有哪些？      0\n",
      "10747  2000  变应性哮喘就是过敏性哮喘吗？       变应性哮喘怎么治疗？      0\n",
      "10748  2001  变应性哮喘就是过敏性哮喘吗？       变应性哮喘能跑步吗？      0\n",
      "\n",
      "[6448 rows x 4 columns]\n",
      "index error\n",
      "3010\n",
      "index error\n",
      "7295\n"
     ]
    }
   ],
   "source": [
    "import pandas as pd\n",
    "data = pd.read_csv('totol_data.csv')\n",
    "data = data.drop(['category'],axis=1)\n",
    "similary = data[data['label']==1]\n",
    "unsimilary = data[data['label']==0]\n",
    "print(similary)\n",
    "print(unsimilary)\n",
    "a = []\n",
    "for i, inde in enumerate(similary.index[:-1]):\n",
    "#     print(i,inde)\n",
    "#     tmp = []\n",
    "    if similary.loc[inde]['query1']==similary.loc[similary.index[i+1]]['query1']:\n",
    "        tmp = [similary.loc[inde]['query2'], similary.loc[similary.index[i+1]]['query2']]\n",
    "        a.append(tmp)\n",
    "    try:\n",
    "        if similary.loc[inde]['query1']==similary.loc[similary.index[i+2]]['query1']:\n",
    "            tmp = [similary.loc[inde]['query2'], similary.loc[similary.index[i+2]]['query2']]\n",
    "            a.append(tmp)\n",
    "    except:\n",
    "        print('index error')\n",
    "print(len(a))\n",
    "\n",
    "b=[]\n",
    "for i, inde in enumerate(unsimilary.index[:-1]):\n",
    "#     print(i,inde)\n",
    "#     tmp = []\n",
    "    if unsimilary.loc[inde]['query1']==unsimilary.loc[unsimilary.index[i+1]]['query1']:\n",
    "        tmp = [unsimilary.loc[inde]['query2'], unsimilary.loc[unsimilary.index[i+1]]['query2']]\n",
    "        b.append(tmp)\n",
    "    try:\n",
    "        if unsimilary.loc[inde]['query1']==unsimilary.loc[unsimilary.index[i+2]]['query1']:\n",
    "            tmp = [unsimilary.loc[inde]['query2'], unsimilary.loc[unsimilary.index[i+2]]['query2']]\n",
    "            b.append(tmp)\n",
    "    except:\n",
    "        print('index error')\n",
    "print(len(b))"
   ]
  },
  {
   "cell_type": "code",
   "execution_count": 8,
   "metadata": {},
   "outputs": [
    {
     "name": "stdout",
     "output_type": "stream",
     "text": [
      "                query1              query2  label    id\n",
      "0        剧烈运动后咯血是什么原因？        剧烈运动后为什么会咯血？      1     0\n",
      "1         百令胶囊有什么注意事项？  服用百令胶囊有什么需要特别注意的吗？      1     1\n",
      "2       肝癌兼肺癌晚期还有多少寿命？      肝癌兼肺癌晚期还有多少时间？      1     2\n",
      "3         咳嗽咯血半年是怎么回事？        咳嗽咯血半年是什么情况？      1     3\n",
      "4       百令胶囊是否可以长时间服用?     百令胶囊长时间服用会有问题吗?      1     4\n",
      "...                ...                 ...    ...   ...\n",
      "3005          哮喘能否吃洋参？          哮喘可不可以吃洋参？      1  3005\n",
      "3006  过敏性哮喘患者的注意事项是什么？     过敏性哮喘患者要注意的是什么？      1  3006\n",
      "3007     过敏性哮喘平时应注意什么？   患了过敏性哮喘平时需要注意哪些事？      1  3007\n",
      "3008        如何治疗过敏性哮喘？         过敏性哮喘要怎么治疗？      1  3008\n",
      "3009   变应性哮喘与过敏性哮喘一样吗？     变应性哮喘是否就是过敏性哮喘？      1  3009\n",
      "\n",
      "[3010 rows x 4 columns]\n"
     ]
    }
   ],
   "source": [
    "df = pd.DataFrame(data=a, columns=['query1', 'query2'])\n",
    "df['label']=1\n",
    "df['id']=df.index\n",
    "print(df)\n",
    "df[['id','query1','query2','label']].to_csv('similary_generate.csv',header=True,index=False)"
   ]
  },
  {
   "cell_type": "code",
   "execution_count": 4,
   "metadata": {},
   "outputs": [
    {
     "name": "stdout",
     "output_type": "stream",
     "text": [
      "               query1          query2    id\n",
      "0     剧烈运动后咯血，应该怎么处理？  剧烈运动后咯血，需要就医吗？     0\n",
      "1     剧烈运动后咯血，应该怎么处理？  剧烈运动后咯血，是否很严重？     1\n",
      "2      剧烈运动后咯血，需要就医吗？  剧烈运动后咯血，是否很严重？     2\n",
      "3           百令胶囊如何服用？       百令胶囊效果好吗？     3\n",
      "4           百令胶囊如何服用？     百令胶囊需要如何服用？     4\n",
      "...               ...             ...   ...\n",
      "7290      过敏性哮喘病因是什么？   过敏性哮喘治好会不会复发？  7290\n",
      "7291      过敏性哮喘有哪些症状？   过敏性哮喘治好会不会复发？  7291\n",
      "7292   变应性哮喘的饮食禁忌有哪些？      变应性哮喘怎么治疗？  7292\n",
      "7293   变应性哮喘的饮食禁忌有哪些？      变应性哮喘能跑步吗？  7293\n",
      "7294       变应性哮喘怎么治疗？      变应性哮喘能跑步吗？  7294\n",
      "\n",
      "[7295 rows x 3 columns]\n"
     ]
    }
   ],
   "source": [
    "df = pd.DataFrame(data=b, columns=['query1', 'query2'])\n",
    "# df['lable']=1\n",
    "df['id']=df.index\n",
    "print(df)\n",
    "df[['id','query1','query2']].to_csv('unknow_generate.csv',header=True,index=False)"
   ]
  },
  {
   "cell_type": "code",
   "execution_count": 34,
   "metadata": {},
   "outputs": [
    {
     "name": "stdout",
     "output_type": "stream",
     "text": [
      "        id  label\n",
      "4        4      1\n",
      "7        7      1\n",
      "14      14      1\n",
      "15      15      1\n",
      "16      16      1\n",
      "...    ...    ...\n",
      "7014  7014      1\n",
      "7116  7116      1\n",
      "7170  7170      1\n",
      "7202  7202      1\n",
      "7257  7257      1\n",
      "\n",
      "[380 rows x 2 columns]\n",
      "        id           query1          query2  label\n",
      "0        0  剧烈运动后咯血，应该怎么处理？  剧烈运动后咯血，需要就医吗？      0\n",
      "1        1  剧烈运动后咯血，应该怎么处理？  剧烈运动后咯血，是否很严重？      0\n",
      "2        2   剧烈运动后咯血，需要就医吗？  剧烈运动后咯血，是否很严重？      0\n",
      "3        3        百令胶囊如何服用？       百令胶囊效果好吗？      0\n",
      "4        4        百令胶囊如何服用？     百令胶囊需要如何服用？      1\n",
      "...    ...              ...             ...    ...\n",
      "7290  7290      过敏性哮喘病因是什么？   过敏性哮喘治好会不会复发？      0\n",
      "7291  7291      过敏性哮喘有哪些症状？   过敏性哮喘治好会不会复发？      0\n",
      "7292  7292   变应性哮喘的饮食禁忌有哪些？      变应性哮喘怎么治疗？      0\n",
      "7293  7293   变应性哮喘的饮食禁忌有哪些？      变应性哮喘能跑步吗？      0\n",
      "7294  7294       变应性哮喘怎么治疗？      变应性哮喘能跑步吗？      0\n",
      "\n",
      "[7295 rows x 4 columns]\n",
      "6915\n",
      "         id            query1             query2  label\n",
      "0         0     剧烈运动后咯血,是怎么了?      剧烈运动后咯血是什么原因？      1\n",
      "1         1     剧烈运动后咯血,是怎么了?       剧烈运动后为什么会咯血？      1\n",
      "2         2     剧烈运动后咯血,是怎么了?    剧烈运动后咯血，应该怎么处理？      0\n",
      "3         3     剧烈运动后咯血,是怎么了?     剧烈运动后咯血，需要就医吗？      0\n",
      "4         4     剧烈运动后咯血,是怎么了?     剧烈运动后咯血，是否很严重？      0\n",
      "...     ...               ...                ...    ...\n",
      "13754  3005          哮喘能否吃洋参？         哮喘可不可以吃洋参？      1\n",
      "13755  3006  过敏性哮喘患者的注意事项是什么？    过敏性哮喘患者要注意的是什么？      1\n",
      "13756  3007     过敏性哮喘平时应注意什么？  患了过敏性哮喘平时需要注意哪些事？      1\n",
      "13757  3008        如何治疗过敏性哮喘？        过敏性哮喘要怎么治疗？      1\n",
      "13758  3009   变应性哮喘与过敏性哮喘一样吗？    变应性哮喘是否就是过敏性哮喘？      1\n",
      "\n",
      "[13759 rows x 4 columns]\n",
      "         id            query1             query2  label\n",
      "4         4         百令胶囊如何服用？        百令胶囊需要如何服用？      1\n",
      "7         7      肝癌兼肺癌晚期能治疗吗？       肝癌兼肺癌晚期能治好吗？      1\n",
      "14       14         百令胶囊怎么服用?      百令胶囊的服用方法是什么?      1\n",
      "15       15      我国最常见的咯血有哪些?    我国最常见的咯血的种类有多少?      1\n",
      "16       16      我国最常见的咯血有哪些?       我国最常见的咯血是什么?      1\n",
      "...     ...               ...                ...    ...\n",
      "13754  3005          哮喘能否吃洋参？         哮喘可不可以吃洋参？      1\n",
      "13755  3006  过敏性哮喘患者的注意事项是什么？    过敏性哮喘患者要注意的是什么？      1\n",
      "13756  3007     过敏性哮喘平时应注意什么？  患了过敏性哮喘平时需要注意哪些事？      1\n",
      "13757  3008        如何治疗过敏性哮喘？        过敏性哮喘要怎么治疗？      1\n",
      "13758  3009   变应性哮喘与过敏性哮喘一样吗？    变应性哮喘是否就是过敏性哮喘？      1\n",
      "\n",
      "[14139 rows x 4 columns]\n",
      "        id                query1                     query2  label\n",
      "7114  7114         干咳无痰吃什么水果恢复的快             干咳无痰并伴有哮鸣音怎么回事      0\n",
      "1375  1375           肺气肿病人怎么治疗的？           肺气肿病人最明显的表现有哪些呢?      0\n",
      "1946  1946               肺炎会传染人吗                  大叶性肺炎传染吗？      0\n",
      "2012  2012  感冒肺炎，住院三天医生说出院需要注意饮食  感冒肺炎，住院三天医生说出院后不要去人群密集的地方      0\n",
      "2211  2211         严重的慢性肺炎传染严重吗？               严重的慢性肺炎传染人吗？      0\n",
      "...    ...                   ...                        ...    ...\n",
      "3129  3129     宝宝吃过东西就吐是扁桃体发炎了吗？         宝宝吃过东西就吐可以吃健胃消食片吗？      0\n",
      "64      64       康尔佳益肺止咳胶囊有什么作用？             康尔佳益肺止咳胶囊怎么服用？      0\n",
      "365    365          怎么诊断小儿支原体肺炎？              小儿支原体肺炎有什么症状？      0\n",
      "106    106           达肺草能治疗肺纤维化吗                  达肺草属于中草药吗      0\n",
      "7235  7235            怎样判断是过敏性哮喘                  过敏跟季节有关系吗      0\n",
      "\n",
      "[2000 rows x 4 columns]\n",
      "         id                query1                     query2  label\n",
      "7114   7114         干咳无痰吃什么水果恢复的快             干咳无痰并伴有哮鸣音怎么回事      0\n",
      "1375   1375           肺气肿病人怎么治疗的？           肺气肿病人最明显的表现有哪些呢?      0\n",
      "1946   1946               肺炎会传染人吗                  大叶性肺炎传染吗？      0\n",
      "2012   2012  感冒肺炎，住院三天医生说出院需要注意饮食  感冒肺炎，住院三天医生说出院后不要去人群密集的地方      0\n",
      "2211   2211         严重的慢性肺炎传染严重吗？               严重的慢性肺炎传染人吗？      0\n",
      "...     ...                   ...                        ...    ...\n",
      "13754  3005              哮喘能否吃洋参？                 哮喘可不可以吃洋参？      1\n",
      "13755  3006      过敏性哮喘患者的注意事项是什么？            过敏性哮喘患者要注意的是什么？      1\n",
      "13756  3007         过敏性哮喘平时应注意什么？          患了过敏性哮喘平时需要注意哪些事？      1\n",
      "13757  3008            如何治疗过敏性哮喘？                过敏性哮喘要怎么治疗？      1\n",
      "13758  3009       变应性哮喘与过敏性哮喘一样吗？            变应性哮喘是否就是过敏性哮喘？      1\n",
      "\n",
      "[16139 rows x 4 columns]\n"
     ]
    }
   ],
   "source": [
    "df = pd.read_csv('../result.csv')\n",
    "# print(df)\n",
    "print(df[df['label']==1])\n",
    "df1 = pd.read_csv('unknow_generate.csv')\n",
    "df1['label'] = df.iloc[:,-1].values\n",
    "print(df1)\n",
    "df2 = df1[df1['label']==1]\n",
    "df2_ = df1[df1['label']==0]\n",
    "print(len(df2_))\n",
    "df3 = pd.read_csv('total_data1.csv')\n",
    "print(df3)\n",
    "df4 = pd.concat([df2,df3],axis=0)\n",
    "print(df4)\n",
    "df5 = df2_.sample(n=2000, random_state=1)\n",
    "print(df5)\n",
    "df6=pd.concat([df5,df4],axis=0)\n",
    "print(df6)\n",
    "df6.to_csv('total_data3.csv',header=True,index=False)"
   ]
  },
  {
   "cell_type": "code",
   "execution_count": 36,
   "metadata": {},
   "outputs": [
    {
     "name": "stdout",
     "output_type": "stream",
     "text": [
      "         id                query1                     query2  label\n",
      "0      7114         干咳无痰吃什么水果恢复的快             干咳无痰并伴有哮鸣音怎么回事      0\n",
      "1      1375           肺气肿病人怎么治疗的？           肺气肿病人最明显的表现有哪些呢?      0\n",
      "2      1946               肺炎会传染人吗                  大叶性肺炎传染吗？      0\n",
      "3      2012  感冒肺炎，住院三天医生说出院需要注意饮食  感冒肺炎，住院三天医生说出院后不要去人群密集的地方      0\n",
      "4      2211         严重的慢性肺炎传染严重吗？               严重的慢性肺炎传染人吗？      0\n",
      "...     ...                   ...                        ...    ...\n",
      "13122  1995          过敏性哮喘究竟怎样治疗?                过敏性哮喘有哪些症状？      0\n",
      "13123  1996          过敏性哮喘究竟怎样治疗?              过敏性哮喘治好会不会复发？      0\n",
      "13126  1999        变应性哮喘就是过敏性哮喘吗？             变应性哮喘的饮食禁忌有哪些？      0\n",
      "13127  2000        变应性哮喘就是过敏性哮喘吗？                 变应性哮喘怎么治疗？      0\n",
      "13128  2001        变应性哮喘就是过敏性哮喘吗？                 变应性哮喘能跑步吗？      0\n",
      "\n",
      "[8448 rows x 4 columns]\n"
     ]
    }
   ],
   "source": [
    "df = pd.read_csv('total_data3.csv')\n",
    "print(df[df['label']==0])"
   ]
  },
  {
   "cell_type": "code",
   "execution_count": 10,
   "metadata": {},
   "outputs": [
    {
     "name": "stdout",
     "output_type": "stream",
     "text": [
      "         id          query1           query2  label\n",
      "0         0   剧烈运动后咯血,是怎么了?    剧烈运动后咯血是什么原因？      1\n",
      "1         1   剧烈运动后咯血,是怎么了?     剧烈运动后为什么会咯血？      1\n",
      "2         2   剧烈运动后咯血,是怎么了?  剧烈运动后咯血，应该怎么处理？      0\n",
      "3         3   剧烈运动后咯血,是怎么了?   剧烈运动后咯血，需要就医吗？      0\n",
      "4         4   剧烈运动后咯血,是怎么了?   剧烈运动后咯血，是否很严重？      0\n",
      "...     ...             ...              ...    ...\n",
      "10744  1997  变应性哮喘就是过敏性哮喘吗？  变应性哮喘与过敏性哮喘一样吗？      1\n",
      "10745  1998  变应性哮喘就是过敏性哮喘吗？  变应性哮喘是否就是过敏性哮喘？      1\n",
      "10746  1999  变应性哮喘就是过敏性哮喘吗？   变应性哮喘的饮食禁忌有哪些？      0\n",
      "10747  2000  变应性哮喘就是过敏性哮喘吗？       变应性哮喘怎么治疗？      0\n",
      "10748  2001  变应性哮喘就是过敏性哮喘吗？       变应性哮喘能跑步吗？      0\n",
      "\n",
      "[10749 rows x 4 columns]\n",
      "        id            query1              query2  label\n",
      "0        0     剧烈运动后咯血是什么原因？        剧烈运动后为什么会咯血？      1\n",
      "1        1      百令胶囊有什么注意事项？  服用百令胶囊有什么需要特别注意的吗？      1\n",
      "2        2    肝癌兼肺癌晚期还有多少寿命？      肝癌兼肺癌晚期还有多少时间？      1\n",
      "3        3      咳嗽咯血半年是怎么回事？        咳嗽咯血半年是什么情况？      1\n",
      "4        4    百令胶囊是否可以长时间服用?     百令胶囊长时间服用会有问题吗?      1\n",
      "...    ...               ...                 ...    ...\n",
      "3005  3005          哮喘能否吃洋参？          哮喘可不可以吃洋参？      1\n",
      "3006  3006  过敏性哮喘患者的注意事项是什么？     过敏性哮喘患者要注意的是什么？      1\n",
      "3007  3007     过敏性哮喘平时应注意什么？   患了过敏性哮喘平时需要注意哪些事？      1\n",
      "3008  3008        如何治疗过敏性哮喘？         过敏性哮喘要怎么治疗？      1\n",
      "3009  3009   变应性哮喘与过敏性哮喘一样吗？     变应性哮喘是否就是过敏性哮喘？      1\n",
      "\n",
      "[3010 rows x 4 columns]\n",
      "        id            query1             query2  label\n",
      "0        0     剧烈运动后咯血,是怎么了?      剧烈运动后咯血是什么原因？      1\n",
      "1        1     剧烈运动后咯血,是怎么了?       剧烈运动后为什么会咯血？      1\n",
      "2        2     剧烈运动后咯血,是怎么了?    剧烈运动后咯血，应该怎么处理？      0\n",
      "3        3     剧烈运动后咯血,是怎么了?     剧烈运动后咯血，需要就医吗？      0\n",
      "4        4     剧烈运动后咯血,是怎么了?     剧烈运动后咯血，是否很严重？      0\n",
      "...    ...               ...                ...    ...\n",
      "3005  3005          哮喘能否吃洋参？         哮喘可不可以吃洋参？      1\n",
      "3006  3006  过敏性哮喘患者的注意事项是什么？    过敏性哮喘患者要注意的是什么？      1\n",
      "3007  3007     过敏性哮喘平时应注意什么？  患了过敏性哮喘平时需要注意哪些事？      1\n",
      "3008  3008        如何治疗过敏性哮喘？        过敏性哮喘要怎么治疗？      1\n",
      "3009  3009   变应性哮喘与过敏性哮喘一样吗？    变应性哮喘是否就是过敏性哮喘？      1\n",
      "\n",
      "[13759 rows x 4 columns]\n"
     ]
    }
   ],
   "source": [
    "df1 = pd.read_csv('totol_data.csv')\n",
    "df1 = df1.drop(['category'],axis=1)\n",
    "print(df1)\n",
    "df2 = pd.read_csv('similary_generate.csv')\n",
    "print(df2)\n",
    "df = pd.concat([df1,df2],axis=0)\n",
    "print(df)\n",
    "df.to_csv('total_data1.csv',header=True,index=False)"
   ]
  }
 ],
 "metadata": {
  "kernelspec": {
   "display_name": "bert",
   "language": "python",
   "name": "bert"
  },
  "language_info": {
   "codemirror_mode": {
    "name": "ipython",
    "version": 3
   },
   "file_extension": ".py",
   "mimetype": "text/x-python",
   "name": "python",
   "nbconvert_exporter": "python",
   "pygments_lexer": "ipython3",
   "version": "3.6.9"
  }
 },
 "nbformat": 4,
 "nbformat_minor": 2
}
