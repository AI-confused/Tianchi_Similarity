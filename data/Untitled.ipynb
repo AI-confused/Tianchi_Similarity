{
 "cells": [
  {
   "cell_type": "code",
   "execution_count": 32,
   "metadata": {},
   "outputs": [
    {
     "name": "stdout",
     "output_type": "stream",
     "text": [
      "10749\n",
      "          0   1               2                3  4\n",
      "0         0  咳血   剧烈运动后咯血,是怎么了?    剧烈运动后咯血是什么原因？  1\n",
      "1         1  咳血   剧烈运动后咯血,是怎么了?     剧烈运动后为什么会咯血？  1\n",
      "2         2  咳血   剧烈运动后咯血,是怎么了?  剧烈运动后咯血，应该怎么处理？  0\n",
      "3         3  咳血   剧烈运动后咯血,是怎么了?   剧烈运动后咯血，需要就医吗？  0\n",
      "4         4  咳血   剧烈运动后咯血,是怎么了?   剧烈运动后咯血，是否很严重？  0\n",
      "...     ...  ..             ...              ... ..\n",
      "10744  1997  哮喘  变应性哮喘就是过敏性哮喘吗？  变应性哮喘与过敏性哮喘一样吗？  1\n",
      "10745  1998  哮喘  变应性哮喘就是过敏性哮喘吗？  变应性哮喘是否就是过敏性哮喘？  1\n",
      "10746  1999  哮喘  变应性哮喘就是过敏性哮喘吗？   变应性哮喘的饮食禁忌有哪些？  0\n",
      "10747  2000  哮喘  变应性哮喘就是过敏性哮喘吗？       变应性哮喘怎么治疗？  0\n",
      "10748  2001  哮喘  变应性哮喘就是过敏性哮喘吗？       变应性哮喘能跑步吗？  0\n",
      "\n",
      "[10749 rows x 5 columns]\n"
     ]
    }
   ],
   "source": [
    "import pandas as pd\n",
    "import numpy as np\n",
    "train = pd.read_csv('train.csv')\n",
    "dev = pd.read_csv('dev.csv')\n",
    "# print(train+dev)\n",
    "train = train.iloc[:,:].values\n",
    "dev = dev.iloc[:,:].values\n",
    "# print(train)\n",
    "# print(dev)\n",
    "train = np.concatenate((train, dev),axis=0)\n",
    "print(len(train))\n",
    "train = pd.DataFrame(train)\n",
    "print(train)\n",
    "train.to_csv('totol_data.csv', index=False,header=True)"
   ]
  },
  {
   "cell_type": "code",
   "execution_count": 45,
   "metadata": {},
   "outputs": [
    {
     "name": "stdout",
     "output_type": "stream",
     "text": [
      "0.6670285359801489\n"
     ]
    }
   ],
   "source": [
    "data = pd.read_csv('totol_data.csv')\n",
    "m,n=0,0\n",
    "for i in data.index:\n",
    "    if data.iloc[i,-1]==1:\n",
    "        m+=1\n",
    "    else:\n",
    "        n+=1\n",
    "print(m/n)"
   ]
  },
  {
   "cell_type": "code",
   "execution_count": 21,
   "metadata": {},
   "outputs": [
    {
     "name": "stdout",
     "output_type": "stream",
     "text": [
      "         id            query1             query2  label\n",
      "0         0   剧烈运动后咯血，应该怎么处理？     剧烈运动后咯血，需要就医吗？      0\n",
      "1         1   剧烈运动后咯血，应该怎么处理？     剧烈运动后咯血，是否很严重？      0\n",
      "2         2    剧烈运动后咯血，需要就医吗？     剧烈运动后咯血，是否很严重？      0\n",
      "3         3         百令胶囊如何服用？          百令胶囊效果好吗？      0\n",
      "4         4         百令胶囊如何服用？        百令胶囊需要如何服用？      1\n",
      "...     ...               ...                ...    ...\n",
      "21049  3005          哮喘能否吃洋参？         哮喘可不可以吃洋参？      1\n",
      "21050  3006  过敏性哮喘患者的注意事项是什么？    过敏性哮喘患者要注意的是什么？      1\n",
      "21051  3007     过敏性哮喘平时应注意什么？  患了过敏性哮喘平时需要注意哪些事？      1\n",
      "21052  3008        如何治疗过敏性哮喘？        过敏性哮喘要怎么治疗？      1\n",
      "21053  3009   变应性哮喘与过敏性哮喘一样吗？    变应性哮喘是否就是过敏性哮喘？      1\n",
      "\n",
      "[21054 rows x 4 columns]\n",
      "[    0     1     2 ... 21051 21052 21053] [    7    16    28 ... 21034 21037 21049]\n",
      "16843 4211\n",
      "[    0     2     3 ... 21050 21051 21053] [    1     4     9 ... 21043 21046 21052]\n",
      "16843 4211\n",
      "[    1     2     3 ... 21050 21051 21052] [    0    11    12 ... 21041 21048 21053]\n",
      "16843 4211\n",
      "[    0     1     4 ... 21049 21052 21053] [    2     3     5 ... 21045 21050 21051]\n",
      "16843 4211\n",
      "[    0     1     2 ... 21051 21052 21053] [    6     8    13 ... 21042 21044 21047]\n",
      "16844 4210\n"
     ]
    }
   ],
   "source": [
    "data = pd.read_csv('total_data2.csv')\n",
    "import os\n",
    "print(data)\n",
    "from sklearn.model_selection import KFold\n",
    "kfold = KFold(n_splits=5, shuffle=True)\n",
    "i = 0\n",
    "os.system('cd fold5')\n",
    "for train, test in kfold.split(data):\n",
    "    print(\"%s %s\" % (train, test))\n",
    "    print(len(train),len(test))\n",
    "    train_data = data.loc[train]\n",
    "    dev_data = data.loc[test]\n",
    "#     print(train_data)\n",
    "    try:\n",
    "        os.system('mkdir data2_%d'%i)\n",
    "    except:\n",
    "        pass\n",
    "    train_data.to_csv('data2_%d/train.csv'%i, index=False, header=True)\n",
    "    dev_data.to_csv('data2_%d/dev.csv'%i, index=False, header=True)\n",
    "    i += 1"
   ]
  },
  {
   "cell_type": "code",
   "execution_count": 2,
   "metadata": {},
   "outputs": [
    {
     "name": "stdout",
     "output_type": "stream",
     "text": [
      "         id           query1              query2  label\n",
      "0         0    剧烈运动后咯血,是怎么了?       剧烈运动后咯血是什么原因？      1\n",
      "1         1    剧烈运动后咯血,是怎么了?        剧烈运动后为什么会咯血？      1\n",
      "5         5      百令胶囊需要注意什么？        百令胶囊有什么注意事项？      1\n",
      "6         6      百令胶囊需要注意什么？  服用百令胶囊有什么需要特别注意的吗？      1\n",
      "10       10     肝癌兼肺癌晚期能活多久？      肝癌兼肺癌晚期还有多少寿命？      1\n",
      "...     ...              ...                 ...    ...\n",
      "10735  1988  过敏性哮喘平时应注意哪些问题？   患了过敏性哮喘平时需要注意哪些事？      1\n",
      "10739  1992     过敏性哮喘究竟怎样治疗?          如何治疗过敏性哮喘？      1\n",
      "10740  1993     过敏性哮喘究竟怎样治疗?         过敏性哮喘要怎么治疗？      1\n",
      "10744  1997   变应性哮喘就是过敏性哮喘吗？     变应性哮喘与过敏性哮喘一样吗？      1\n",
      "10745  1998   变应性哮喘就是过敏性哮喘吗？     变应性哮喘是否就是过敏性哮喘？      1\n",
      "\n",
      "[4301 rows x 4 columns]\n",
      "         id          query1           query2  label\n",
      "2         2   剧烈运动后咯血,是怎么了?  剧烈运动后咯血，应该怎么处理？      0\n",
      "3         3   剧烈运动后咯血,是怎么了?   剧烈运动后咯血，需要就医吗？      0\n",
      "4         4   剧烈运动后咯血,是怎么了?   剧烈运动后咯血，是否很严重？      0\n",
      "7         7     百令胶囊需要注意什么？        百令胶囊如何服用？      0\n",
      "8         8     百令胶囊需要注意什么？        百令胶囊效果好吗？      0\n",
      "...     ...             ...              ...    ...\n",
      "10742  1995    过敏性哮喘究竟怎样治疗?      过敏性哮喘有哪些症状？      0\n",
      "10743  1996    过敏性哮喘究竟怎样治疗?    过敏性哮喘治好会不会复发？      0\n",
      "10746  1999  变应性哮喘就是过敏性哮喘吗？   变应性哮喘的饮食禁忌有哪些？      0\n",
      "10747  2000  变应性哮喘就是过敏性哮喘吗？       变应性哮喘怎么治疗？      0\n",
      "10748  2001  变应性哮喘就是过敏性哮喘吗？       变应性哮喘能跑步吗？      0\n",
      "\n",
      "[6448 rows x 4 columns]\n",
      "index error\n",
      "3010\n",
      "index error\n",
      "7295\n"
     ]
    }
   ],
   "source": [
    "import pandas as pd\n",
    "data = pd.read_csv('totol_data.csv')\n",
    "data = data.drop(['category'],axis=1)\n",
    "similary = data[data['label']==1]\n",
    "unsimilary = data[data['label']==0]\n",
    "print(similary)\n",
    "print(unsimilary)\n",
    "a = []\n",
    "for i, inde in enumerate(similary.index[:-1]):\n",
    "#     print(i,inde)\n",
    "#     tmp = []\n",
    "    if similary.loc[inde]['query1']==similary.loc[similary.index[i+1]]['query1']:\n",
    "        tmp = [similary.loc[inde]['query2'], similary.loc[similary.index[i+1]]['query2']]\n",
    "        a.append(tmp)\n",
    "    try:\n",
    "        if similary.loc[inde]['query1']==similary.loc[similary.index[i+2]]['query1']:\n",
    "            tmp = [similary.loc[inde]['query2'], similary.loc[similary.index[i+2]]['query2']]\n",
    "            a.append(tmp)\n",
    "    except:\n",
    "        print('index error')\n",
    "print(len(a))\n",
    "\n",
    "b=[]\n",
    "for i, inde in enumerate(unsimilary.index[:-1]):\n",
    "#     print(i,inde)\n",
    "#     tmp = []\n",
    "    if unsimilary.loc[inde]['query1']==unsimilary.loc[unsimilary.index[i+1]]['query1']:\n",
    "        tmp = [unsimilary.loc[inde]['query2'], unsimilary.loc[unsimilary.index[i+1]]['query2']]\n",
    "        b.append(tmp)\n",
    "    try:\n",
    "        if unsimilary.loc[inde]['query1']==unsimilary.loc[unsimilary.index[i+2]]['query1']:\n",
    "            tmp = [unsimilary.loc[inde]['query2'], unsimilary.loc[unsimilary.index[i+2]]['query2']]\n",
    "            b.append(tmp)\n",
    "    except:\n",
    "        print('index error')\n",
    "print(len(b))"
   ]
  },
  {
   "cell_type": "code",
   "execution_count": 8,
   "metadata": {},
   "outputs": [
    {
     "name": "stdout",
     "output_type": "stream",
     "text": [
      "                query1              query2  label    id\n",
      "0        剧烈运动后咯血是什么原因？        剧烈运动后为什么会咯血？      1     0\n",
      "1         百令胶囊有什么注意事项？  服用百令胶囊有什么需要特别注意的吗？      1     1\n",
      "2       肝癌兼肺癌晚期还有多少寿命？      肝癌兼肺癌晚期还有多少时间？      1     2\n",
      "3         咳嗽咯血半年是怎么回事？        咳嗽咯血半年是什么情况？      1     3\n",
      "4       百令胶囊是否可以长时间服用?     百令胶囊长时间服用会有问题吗?      1     4\n",
      "...                ...                 ...    ...   ...\n",
      "3005          哮喘能否吃洋参？          哮喘可不可以吃洋参？      1  3005\n",
      "3006  过敏性哮喘患者的注意事项是什么？     过敏性哮喘患者要注意的是什么？      1  3006\n",
      "3007     过敏性哮喘平时应注意什么？   患了过敏性哮喘平时需要注意哪些事？      1  3007\n",
      "3008        如何治疗过敏性哮喘？         过敏性哮喘要怎么治疗？      1  3008\n",
      "3009   变应性哮喘与过敏性哮喘一样吗？     变应性哮喘是否就是过敏性哮喘？      1  3009\n",
      "\n",
      "[3010 rows x 4 columns]\n"
     ]
    }
   ],
   "source": [
    "df = pd.DataFrame(data=a, columns=['query1', 'query2'])\n",
    "df['label']=1\n",
    "df['id']=df.index\n",
    "print(df)\n",
    "df[['id','query1','query2','label']].to_csv('similary_generate.csv',header=True,index=False)"
   ]
  },
  {
   "cell_type": "code",
   "execution_count": 4,
   "metadata": {},
   "outputs": [
    {
     "name": "stdout",
     "output_type": "stream",
     "text": [
      "               query1          query2    id\n",
      "0     剧烈运动后咯血，应该怎么处理？  剧烈运动后咯血，需要就医吗？     0\n",
      "1     剧烈运动后咯血，应该怎么处理？  剧烈运动后咯血，是否很严重？     1\n",
      "2      剧烈运动后咯血，需要就医吗？  剧烈运动后咯血，是否很严重？     2\n",
      "3           百令胶囊如何服用？       百令胶囊效果好吗？     3\n",
      "4           百令胶囊如何服用？     百令胶囊需要如何服用？     4\n",
      "...               ...             ...   ...\n",
      "7290      过敏性哮喘病因是什么？   过敏性哮喘治好会不会复发？  7290\n",
      "7291      过敏性哮喘有哪些症状？   过敏性哮喘治好会不会复发？  7291\n",
      "7292   变应性哮喘的饮食禁忌有哪些？      变应性哮喘怎么治疗？  7292\n",
      "7293   变应性哮喘的饮食禁忌有哪些？      变应性哮喘能跑步吗？  7293\n",
      "7294       变应性哮喘怎么治疗？      变应性哮喘能跑步吗？  7294\n",
      "\n",
      "[7295 rows x 3 columns]\n"
     ]
    }
   ],
   "source": [
    "df = pd.DataFrame(data=b, columns=['query1', 'query2'])\n",
    "# df['lable']=1\n",
    "df['id']=df.index\n",
    "print(df)\n",
    "df[['id','query1','query2']].to_csv('unknow_generate.csv',header=True,index=False)"
   ]
  },
  {
   "cell_type": "code",
   "execution_count": 23,
   "metadata": {},
   "outputs": [
    {
     "name": "stdout",
     "output_type": "stream",
     "text": [
      "        id  label\n",
      "0        0      0\n",
      "1        1      0\n",
      "2        2      0\n",
      "3        3      0\n",
      "5        5      0\n",
      "...    ...    ...\n",
      "7290  7290      0\n",
      "7291  7291      0\n",
      "7292  7292      0\n",
      "7293  7293      0\n",
      "7294  7294      0\n",
      "\n",
      "[6915 rows x 2 columns]\n"
     ]
    }
   ],
   "source": [
    "df = pd.read_csv('../result.csv')\n",
    "print(df[df['label']==0])\n",
    "# df1 = pd.read_csv('unknow_generate.csv')\n",
    "# df1['label'] = df.iloc[:,-1].values\n",
    "# print(df1)\n",
    "# df3 = pd.read_csv('total_data1.csv')\n",
    "# print(df3)\n",
    "# df4 = pd.concat([df1,df3],axis=0)\n",
    "# print(df4)\n",
    "# df4.to_csv('total_data2.csv',header=True,index=False)"
   ]
  },
  {
   "cell_type": "code",
   "execution_count": 10,
   "metadata": {},
   "outputs": [
    {
     "name": "stdout",
     "output_type": "stream",
     "text": [
      "         id          query1           query2  label\n",
      "0         0   剧烈运动后咯血,是怎么了?    剧烈运动后咯血是什么原因？      1\n",
      "1         1   剧烈运动后咯血,是怎么了?     剧烈运动后为什么会咯血？      1\n",
      "2         2   剧烈运动后咯血,是怎么了?  剧烈运动后咯血，应该怎么处理？      0\n",
      "3         3   剧烈运动后咯血,是怎么了?   剧烈运动后咯血，需要就医吗？      0\n",
      "4         4   剧烈运动后咯血,是怎么了?   剧烈运动后咯血，是否很严重？      0\n",
      "...     ...             ...              ...    ...\n",
      "10744  1997  变应性哮喘就是过敏性哮喘吗？  变应性哮喘与过敏性哮喘一样吗？      1\n",
      "10745  1998  变应性哮喘就是过敏性哮喘吗？  变应性哮喘是否就是过敏性哮喘？      1\n",
      "10746  1999  变应性哮喘就是过敏性哮喘吗？   变应性哮喘的饮食禁忌有哪些？      0\n",
      "10747  2000  变应性哮喘就是过敏性哮喘吗？       变应性哮喘怎么治疗？      0\n",
      "10748  2001  变应性哮喘就是过敏性哮喘吗？       变应性哮喘能跑步吗？      0\n",
      "\n",
      "[10749 rows x 4 columns]\n",
      "        id            query1              query2  label\n",
      "0        0     剧烈运动后咯血是什么原因？        剧烈运动后为什么会咯血？      1\n",
      "1        1      百令胶囊有什么注意事项？  服用百令胶囊有什么需要特别注意的吗？      1\n",
      "2        2    肝癌兼肺癌晚期还有多少寿命？      肝癌兼肺癌晚期还有多少时间？      1\n",
      "3        3      咳嗽咯血半年是怎么回事？        咳嗽咯血半年是什么情况？      1\n",
      "4        4    百令胶囊是否可以长时间服用?     百令胶囊长时间服用会有问题吗?      1\n",
      "...    ...               ...                 ...    ...\n",
      "3005  3005          哮喘能否吃洋参？          哮喘可不可以吃洋参？      1\n",
      "3006  3006  过敏性哮喘患者的注意事项是什么？     过敏性哮喘患者要注意的是什么？      1\n",
      "3007  3007     过敏性哮喘平时应注意什么？   患了过敏性哮喘平时需要注意哪些事？      1\n",
      "3008  3008        如何治疗过敏性哮喘？         过敏性哮喘要怎么治疗？      1\n",
      "3009  3009   变应性哮喘与过敏性哮喘一样吗？     变应性哮喘是否就是过敏性哮喘？      1\n",
      "\n",
      "[3010 rows x 4 columns]\n",
      "        id            query1             query2  label\n",
      "0        0     剧烈运动后咯血,是怎么了?      剧烈运动后咯血是什么原因？      1\n",
      "1        1     剧烈运动后咯血,是怎么了?       剧烈运动后为什么会咯血？      1\n",
      "2        2     剧烈运动后咯血,是怎么了?    剧烈运动后咯血，应该怎么处理？      0\n",
      "3        3     剧烈运动后咯血,是怎么了?     剧烈运动后咯血，需要就医吗？      0\n",
      "4        4     剧烈运动后咯血,是怎么了?     剧烈运动后咯血，是否很严重？      0\n",
      "...    ...               ...                ...    ...\n",
      "3005  3005          哮喘能否吃洋参？         哮喘可不可以吃洋参？      1\n",
      "3006  3006  过敏性哮喘患者的注意事项是什么？    过敏性哮喘患者要注意的是什么？      1\n",
      "3007  3007     过敏性哮喘平时应注意什么？  患了过敏性哮喘平时需要注意哪些事？      1\n",
      "3008  3008        如何治疗过敏性哮喘？        过敏性哮喘要怎么治疗？      1\n",
      "3009  3009   变应性哮喘与过敏性哮喘一样吗？    变应性哮喘是否就是过敏性哮喘？      1\n",
      "\n",
      "[13759 rows x 4 columns]\n"
     ]
    }
   ],
   "source": [
    "df1 = pd.read_csv('totol_data.csv')\n",
    "df1 = df1.drop(['category'],axis=1)\n",
    "print(df1)\n",
    "df2 = pd.read_csv('similary_generate.csv')\n",
    "print(df2)\n",
    "df = pd.concat([df1,df2],axis=0)\n",
    "print(df)\n",
    "df.to_csv('total_data1.csv',header=True,index=False)"
   ]
  }
 ],
 "metadata": {
  "kernelspec": {
   "display_name": "bert",
   "language": "python",
   "name": "bert"
  },
  "language_info": {
   "codemirror_mode": {
    "name": "ipython",
    "version": 3
   },
   "file_extension": ".py",
   "mimetype": "text/x-python",
   "name": "python",
   "nbconvert_exporter": "python",
   "pygments_lexer": "ipython3",
   "version": "3.6.9"
  }
 },
 "nbformat": 4,
 "nbformat_minor": 2
}
